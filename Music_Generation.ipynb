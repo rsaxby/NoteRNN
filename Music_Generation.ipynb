{
  "nbformat": 4,
  "nbformat_minor": 0,
  "metadata": {
    "colab": {
      "name": "Music_Generation.ipynb",
      "version": "0.3.2",
      "provenance": [],
      "collapsed_sections": [],
      "include_colab_link": true
    },
    "kernelspec": {
      "name": "python3",
      "display_name": "Python 3"
    },
    "accelerator": "GPU"
  },
  "cells": [
    {
      "cell_type": "markdown",
      "metadata": {
        "id": "view-in-github",
        "colab_type": "text"
      },
      "source": [
        "<a href=\"https://colab.research.google.com/github/rsaxby/NoteRNN/blob/master/Music_Generation.ipynb\" target=\"_parent\"><img src=\"https://colab.research.google.com/assets/colab-badge.svg\" alt=\"Open In Colab\"/></a>"
      ]
    },
    {
      "metadata": {
        "id": "5-ruFOCV9jde",
        "colab_type": "text"
      },
      "cell_type": "markdown",
      "source": [
        "# LSTM Music Generation"
      ]
    },
    {
      "metadata": {
        "id": "Szs5WbILH0kU",
        "colab_type": "code",
        "colab": {}
      },
      "cell_type": "code",
      "source": [
        "# Load the Drive helper and mount\n",
        "from google.colab import drive\n",
        "drive.mount('/content/drive')\n",
        "\n",
        "%cd /content/drive/My\\ Drive/Colab\\ Notebooks/data/music_data/music/classical_\n",
        "\n",
        "# list files in directory\n",
        "# !ls"
      ],
      "execution_count": 0,
      "outputs": []
    },
    {
      "metadata": {
        "id": "u5XTJs2CLEHN",
        "colab_type": "code",
        "colab": {}
      },
      "cell_type": "code",
      "source": [
        "# imports\n",
        "from Dataset import Dataset\n",
        "from generate import generate\n",
        "from helper import *\n",
        "from RNN import RNN\n",
        "from Song import Song\n",
        "from train import *\n",
        "from google.colab import files\n",
        "\n",
        "# check if CUDA is available\n",
        "train_on_gpu = torch.cuda.is_available()\n",
        "\n",
        "if not train_on_gpu:\n",
        "    print('CUDA is not available.  Training on CPU ...')\n",
        "else:\n",
        "    print('CUDA is available!  Training on GPU ...')"
      ],
      "execution_count": 0,
      "outputs": []
    },
    {
      "metadata": {
        "id": "PrLOByyZMNSn",
        "colab_type": "text"
      },
      "cell_type": "markdown",
      "source": [
        "## Prepare the Dataset\n",
        "The `Dataset` class creates a dataset from MIDI files in the directory specified by `data_dir`. Here we extract and sequentially store note, chord, and rest objects from the MIDI file stream in a list (to be fed to the network for training). Each object is also stored in a dictionary music21_objects, which we will later use to create MIDI events from using our generated notes.\n",
        "Within the `create_dataset` method, we:\n",
        "\n",
        "\n",
        "1.   Extract and store all note/chord/rest objects\n",
        "2.   Create a dictionary to encode our unique objects\n",
        "3.   Encode our list of notes to be used for training"
      ]
    },
    {
      "metadata": {
        "id": "Icfzn3SdSFFw",
        "colab_type": "text"
      },
      "cell_type": "markdown",
      "source": [
        "Specify the data directory for the music files:"
      ]
    },
    {
      "metadata": {
        "id": "eaHZz19-RPRa",
        "colab_type": "code",
        "colab": {}
      },
      "cell_type": "code",
      "source": [
        "# directory where we store our music data\n",
        "data_dir = '/content/drive/My Drive/Colab Notebooks/data/music_data/music/classical_/'"
      ],
      "execution_count": 0,
      "outputs": []
    },
    {
      "metadata": {
        "id": "8pfugik2SRg-",
        "colab_type": "text"
      },
      "cell_type": "markdown",
      "source": [
        "Create the `Dataset`, print the `.num_classes`, and retrieve the `encoded_notes` to be passed into the network."
      ]
    },
    {
      "metadata": {
        "id": "LqNVYyuqRjRA",
        "colab_type": "code",
        "outputId": "b50caae8-ca76-494f-db63-2acd23c27889",
        "colab": {
          "base_uri": "https://localhost:8080/",
          "height": 35
        }
      },
      "cell_type": "code",
      "source": [
        "# create dataset\n",
        "# music21_objects_fp = data_dir+\"music21_objects_quant_and_cr.pickle\"\n",
        "# notes_fp = data_dir+\"notes_quant_and_cr.pickle\"\n",
        "# processed_fp = data_dir + \"processed_q_and_cr.pickle\"\n",
        "# classical = Dataset(data_dir,notes_fp, music21_objects_fp, processed_fp)\n",
        "# classical.create_dataset()\n",
        "# print(\"Vocab size: {}\".format(classical.num_classes))\n",
        "# encoded_notes = classical.encoded_notes # encode notes\n",
        "# classical.save_notes()\n",
        "\n",
        "# if loading from pickle\n",
        "music21_objects_fp = \"music21_objects.pickle\"\n",
        "notes_fp = \"notes.pickle\"\n",
        "processed_fp = \"processed.pickle\"\n",
        "    \n",
        "# create dataset from pickle\n",
        "classical = Dataset(data_dir, notes_fp, music21_objects_fp, processed_fp)\n",
        "classical.create_dataset_from_pickle()\n",
        "print(\"Vocab size: {}\".format(classical.num_classes))\n",
        "encoded_notes = classical.encoded_notes # encode notes"
      ],
      "execution_count": 4,
      "outputs": [
        {
          "output_type": "stream",
          "text": [
            "Vocab size: 205\n"
          ],
          "name": "stdout"
        }
      ]
    },
    {
      "metadata": {
        "id": "XKfznEC7lnWY",
        "colab_type": "text"
      },
      "cell_type": "markdown",
      "source": [
        "## Define Hyperparmeters and Create Dataloader"
      ]
    },
    {
      "metadata": {
        "id": "LXCVsVy8ljQ9",
        "colab_type": "code",
        "outputId": "a349d2a2-dc41-48a6-d905-79fc3c7a3f47",
        "colab": {
          "base_uri": "https://localhost:8080/",
          "height": 69
        }
      },
      "cell_type": "code",
      "source": [
        "# Data params\n",
        "# Sequence Length\n",
        "sequence_length = 500  # of notes in a sequence\n",
        "# Batch Size\n",
        "batch_size = 128\n",
        "\n",
        "# data loader \n",
        "train_loader = batch_data(classical.encoded_notes, sequence_length, batch_size)\n",
        "print(len(train_loader))\n",
        "print(len(classical.notes))\n",
        "print(classical.num_classes)"
      ],
      "execution_count": 5,
      "outputs": [
        {
          "output_type": "stream",
          "text": [
            "86\n",
            "11453\n",
            "205\n"
          ],
          "name": "stdout"
        }
      ]
    },
    {
      "metadata": {
        "id": "3Q-oLgXYccf1",
        "colab_type": "code",
        "colab": {}
      },
      "cell_type": "code",
      "source": [
        "# Training parameters\n",
        "\n",
        "# Learning Rate\n",
        "learning_rate = 0.00001\n",
        "\n",
        "# Model parameters\n",
        "# Vocab size\n",
        "vocab_size = classical.num_classes\n",
        "# Output size\n",
        "output_size = vocab_size\n",
        "# Embedding Dimension\n",
        "embedding_dim = 32\n",
        "# Hidden Dimension\n",
        "hidden_dim = 1024\n",
        "# Number of RNN Layers\n",
        "n_layers = 2\n",
        "\n",
        "# Show stats for every n number of batches\n",
        "show_every_n_batches = 40"
      ],
      "execution_count": 0,
      "outputs": []
    },
    {
      "metadata": {
        "id": "JilboGi0qVT8",
        "colab_type": "text"
      },
      "cell_type": "markdown",
      "source": [
        "## Train the Network\n",
        "We will instantiate the model and pass in our hyperparameters. Here I've already trained a model and will load it from the saved file using the `load_model` function."
      ]
    },
    {
      "metadata": {
        "id": "Ua9LDEwDt_F_",
        "colab_type": "code",
        "outputId": "3738fcfa-9bf6-4eb7-d8fb-79814f1c6ea1",
        "colab": {
          "base_uri": "https://localhost:8080/",
          "height": 121
        }
      },
      "cell_type": "code",
      "source": [
        "# create model and move to gpu if available\n",
        "rnn = RNN(vocab_size, output_size, embedding_dim, hidden_dim, n_layers, dropout=0.1)\n",
        "# load saved model\n",
        "rnn = load_model('./save/trained_rnn')\n",
        "print(rnn)\n",
        "if train_on_gpu:\n",
        "    rnn.cuda()"
      ],
      "execution_count": 7,
      "outputs": [
        {
          "output_type": "stream",
          "text": [
            "RNN(\n",
            "  (embedding): Embedding(205, 32)\n",
            "  (lstm): LSTM(32, 1024, num_layers=2, batch_first=True, dropout=0.1)\n",
            "  (dropout): Dropout(p=0.1)\n",
            "  (fc1): Linear(in_features=1024, out_features=205, bias=True)\n",
            ")\n"
          ],
          "name": "stdout"
        }
      ]
    },
    {
      "metadata": {
        "id": "RH9lwzFLAijo",
        "colab_type": "text"
      },
      "cell_type": "markdown",
      "source": [
        "Choose the optimizer, criterion, number of epochs to train, and pass these along with the dataloader, model, batch_size, and number of epoch to train to the `train_rnn` function. You can also choose how verbose the output is by specifying `show_every_n_batches` and whether or not to plot loss over time with the `plot` (boolean) parameter. "
      ]
    },
    {
      "metadata": {
        "id": "y5pUQ1x4pA1B",
        "colab_type": "code",
        "outputId": "773ea9fa-6525-4524-a9db-b0250fd010aa",
        "colab": {
          "base_uri": "https://localhost:8080/",
          "height": 121
        }
      },
      "cell_type": "code",
      "source": [
        "# defining loss and optimization functions for training\n",
        "optimizer = torch.optim.Adam(rnn.parameters(), lr=learning_rate)\n",
        "criterion = nn.CrossEntropyLoss()\n",
        "# Number of Epochs\n",
        "num_epochs = 1\n",
        "# training the model\n",
        "trained_rnn = train_rnn(train_loader,rnn, batch_size, optimizer, criterion, num_epochs, show_every_n_batches, plot=False)\n",
        "\n",
        "# saving the trained model\n",
        "save_model('./save/trained_rnn', trained_rnn)\n",
        "print('Model Trained and Saved')"
      ],
      "execution_count": 8,
      "outputs": [
        {
          "output_type": "stream",
          "text": [
            "Training for 1 epoch(s)...\n",
            "Epoch:    1/1     Loss: 0.06623477758839727\n",
            "\n",
            "Epoch:    1/1     Loss: 0.0649019055068493\n",
            "\n",
            "Model Trained and Saved\n"
          ],
          "name": "stdout"
        }
      ]
    },
    {
      "metadata": {
        "id": "g14tZ9sn8BlH",
        "colab_type": "text"
      },
      "cell_type": "markdown",
      "source": [
        "## Generate Notes\n",
        "Now that we have a trained model, we can generate notes from a prime. Select a note to act as the prime, then encode it and pass it to the generate function. You can specify the sequence length and the generate length."
      ]
    },
    {
      "metadata": {
        "id": "LvL-vGDYxAmp",
        "colab_type": "code",
        "colab": {}
      },
      "cell_type": "code",
      "source": [
        "prime = 'C all combinatorial (P6, I3, RI9)'\n",
        "# create the dictionary to encode the notes\n",
        "int2pitch = {classical.pitch2int[nt]:nt for nt in classical.pitch2int}"
      ],
      "execution_count": 0,
      "outputs": []
    },
    {
      "metadata": {
        "id": "spzVNDIgu6lg",
        "colab_type": "code",
        "colab": {}
      },
      "cell_type": "code",
      "source": [
        "# generate notes\n",
        "gen_length = 1 # modify the length to your preference\n",
        "sequence_length = 50  # of notes in a sequence\n",
        "\n",
        "generated_notes = generate(trained_rnn, classical.pitch2int[prime], int2pitch,sequence_length, gen_length, top_k=20)"
      ],
      "execution_count": 0,
      "outputs": []
    },
    {
      "metadata": {
        "id": "3Le4DYrG9G72",
        "colab_type": "text"
      },
      "cell_type": "markdown",
      "source": [
        "## Create and Save the MIDI track\n",
        "We will create an instance of the Song class, which takes in the list of generated notes, the dictionary of music21 objects, the data directory to which we should save the song, and the file name for the song. We then call the `create_song` method which will create the midi file from the notes and save the track."
      ]
    },
    {
      "metadata": {
        "id": "_FoVef_B14AV",
        "colab_type": "code",
        "outputId": "9bdb3d25-b169-43d1-a87f-851b48efc784",
        "colab": {
          "base_uri": "https://localhost:8080/",
          "height": 35
        }
      },
      "cell_type": "code",
      "source": [
        "# create song and save it\n",
        "song = Song(generated_notes, classical.music21_objects, data_dir+\"/generated/\", \"generated_classical.mid\")\n",
        "song.create_song()"
      ],
      "execution_count": 27,
      "outputs": [
        {
          "output_type": "stream",
          "text": [
            "Writing MIDI track\n"
          ],
          "name": "stdout"
        }
      ]
    }
  ]
}